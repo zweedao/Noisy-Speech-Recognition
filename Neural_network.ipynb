{
  "nbformat": 4,
  "nbformat_minor": 0,
  "metadata": {
    "colab": {
      "name": "CT DSP Final: Speech Recognition.ipynb",
      "provenance": [],
      "collapsed_sections": []
    },
    "kernelspec": {
      "name": "python3",
      "display_name": "Python 3"
    },
    "accelerator": "TPU"
  },
  "cells": [
    {
      "cell_type": "code",
      "metadata": {
        "id": "c7qfb9tjwz6d",
        "colab_type": "code",
        "outputId": "10ef5dc9-f018-490d-b505-bfa036f6a760",
        "colab": {
          "base_uri": "https://localhost:8080/",
          "height": 122
        }
      },
      "source": [
        "# Connect with Google Drive\n",
        "from google.colab import drive\n",
        "drive.mount('/gdrive')"
      ],
      "execution_count": 1,
      "outputs": [
        {
          "output_type": "stream",
          "text": [
            "Go to this URL in a browser: https://accounts.google.com/o/oauth2/auth?client_id=947318989803-6bn6qk8qdgf4n4g3pfee6491hc0brc4i.apps.googleusercontent.com&redirect_uri=urn%3aietf%3awg%3aoauth%3a2.0%3aoob&response_type=code&scope=email%20https%3a%2f%2fwww.googleapis.com%2fauth%2fdocs.test%20https%3a%2f%2fwww.googleapis.com%2fauth%2fdrive%20https%3a%2f%2fwww.googleapis.com%2fauth%2fdrive.photos.readonly%20https%3a%2f%2fwww.googleapis.com%2fauth%2fpeopleapi.readonly\n",
            "\n",
            "Enter your authorization code:\n",
            "··········\n",
            "Mounted at /gdrive\n"
          ],
          "name": "stdout"
        }
      ]
    },
    {
      "cell_type": "code",
      "metadata": {
        "id": "nWzFqdgBxpaj",
        "colab_type": "code",
        "outputId": "d35cebe2-2c42-4c70-d0ab-cd34d70a2bde",
        "colab": {
          "base_uri": "https://localhost:8080/",
          "height": 34
        }
      },
      "source": [
        "import os\n",
        "import matplotlib.pyplot as plt\n",
        "import numpy as np\n",
        "from scipy.io import wavfile \n",
        "from sklearn.preprocessing import LabelEncoder\n",
        "from sklearn.model_selection import train_test_split\n",
        "import librosa\n",
        "import IPython.display as ipd\n",
        "import warnings\n",
        "warnings.filterwarnings(\"ignore\")\n",
        "from keras.utils import np_utils\n",
        "from keras.layers import Dense, Dropout, Flatten, Conv1D, Input, MaxPooling1D\n",
        "from keras.models import Model, load_model\n",
        "from keras.callbacks import EarlyStopping, ModelCheckpoint\n",
        "from keras import backend as K\n",
        "K.clear_session()\n",
        "from joblib import dump, load"
      ],
      "execution_count": 2,
      "outputs": [
        {
          "output_type": "stream",
          "text": [
            "Using TensorFlow backend.\n"
          ],
          "name": "stderr"
        }
      ]
    },
    {
      "cell_type": "code",
      "metadata": {
        "id": "7oFGYzvQyVHv",
        "colab_type": "code",
        "colab": {}
      },
      "source": [
        "#Data preprocessing\n",
        "folder_url = \"/gdrive/My Drive/Colab Notebooks/Data/DSP Final/\"\n",
        "\n",
        "my_labels = ['yes','no','on','off','go','stop','up','down','left','right']\n",
        "FIXED_RATE = 8000\n",
        "\n",
        "#Read waves & labels\n",
        "wave_list = []\n",
        "label_list = []\n",
        "for label in my_labels:\n",
        "    audio_files = [file for file in os.listdir(folder_url + '/'+ label) if file.endswith('.wav')]\n",
        "    for i, file in enumerate(audio_files):\n",
        "        print(label, i)\n",
        "        audio_data, audio_rate = librosa.load(folder_url + '/' + label + '/' + file, sr = 16000)\n",
        "        #downsample to FIXED_RATE\n",
        "        audio_data = librosa.resample(audio_data, audio_rate, FIXED_RATE)\n",
        "        #remove samples with different lengths\n",
        "        if(len(audio_data) == FIXED_RATE) : \n",
        "            wave_list.append(audio_data)\n",
        "            label_list.append(label)\n",
        "\n",
        "#Encode & onehot labels\n",
        "labelEncoder = LabelEncoder()\n",
        "labels_encoded = labelEncoder.fit_transform(label_list)\n",
        "classes = np.array(labelEncoder.classes_)\n",
        "labels_onehot = np_utils.to_categorical(labels_encoded, num_classes=len(my_labels))\n",
        "\n",
        "#reshape wave from 2D into 3D\n",
        "wave_list = np.array(wave_list).reshape(-1,FIXED_RATE,1)\n",
        "\n",
        "#split train/dev data\n",
        "x_train, x_dev, y_train, y_dev = train_test_split(wave_list, labels_onehot, stratify=labels_onehot, test_size = 0.2, shuffle=True)\n"
      ],
      "execution_count": 0,
      "outputs": []
    },
    {
      "cell_type": "code",
      "metadata": {
        "id": "3tosFebHY1Kv",
        "colab_type": "code",
        "outputId": "a930f9e5-aea0-43e5-f587-28a9667a1331",
        "colab": {
          "base_uri": "https://localhost:8080/",
          "height": 1000
        }
      },
      "source": [
        "#Convolution network\n",
        "#Model input\n",
        "inputs = Input(shape=(FIXED_RATE,1))\n",
        "\n",
        "#Convolution layer 1\n",
        "x = Conv1D(8,13, activation='relu')(inputs)\n",
        "x = MaxPooling1D(3)(x)\n",
        "x = Dropout(0.3)(x)\n",
        "\n",
        "#Convolution layer 2\n",
        "x = Conv1D(16, 11, activation='relu')(x)\n",
        "x = MaxPooling1D(3)(x)\n",
        "x = Dropout(0.3)(x)\n",
        "\n",
        "#Convolution layer 3\n",
        "x = Conv1D(32, 9, activation='relu')(x)\n",
        "x = MaxPooling1D(3)(x)\n",
        "x = Dropout(0.3)(x)\n",
        "\n",
        "#Convolution layer 4\n",
        "x = Conv1D(64, 7, activation='relu')(x)\n",
        "x = MaxPooling1D(3)(x)\n",
        "x = Dropout(0.3)(x)\n",
        "\n",
        "#Flatten layer\n",
        "x = Flatten()(x)\n",
        "\n",
        "#Dense layer 1\n",
        "x = Dense(256, activation='relu')(x)\n",
        "x = Dropout(0.3)(x)\n",
        "\n",
        "#Dense layer 2\n",
        "x = Dense(128, activation='relu')(x)\n",
        "x = Dropout(0.3)(x)\n",
        "\n",
        "#Model output\n",
        "outputs = Dense(len(my_labels), activation='softmax')(x)\n",
        "\n",
        "#Model\n",
        "model = Model(inputs, outputs)\n",
        "model.summary()\n",
        "\n",
        "#model settings\n",
        "model.compile(loss='categorical_crossentropy',optimizer='adam',metrics=['accuracy'])\n",
        "early_stop = EarlyStopping(monitor='val_loss', mode='min', patience=10, min_delta=0.0001, verbose=1) \n",
        "\n",
        "#train model\n",
        "history = model.fit(x_train, y_train, validation_data=(x_dev, y_dev), epochs=100, batch_size=32, callbacks=[early_stop])\n",
        "\n",
        "#plot loss\n",
        "plt.plot(history.history['loss'], label='train') \n",
        "plt.plot(history.history['val_loss'], label='validation') \n",
        "plt.legend() \n",
        "plt.show()\n",
        "\n",
        "#save model\n",
        "#model=load_model('best_model.hdf5')\n",
        "dump(model, folder_url + 'model.joblib')\n",
        "dump(classes, folder_url + 'classes.joblib')"
      ],
      "execution_count": 0,
      "outputs": [
        {
          "output_type": "stream",
          "text": [
            "Model: \"model_1\"\n",
            "_________________________________________________________________\n",
            "Layer (type)                 Output Shape              Param #   \n",
            "=================================================================\n",
            "input_1 (InputLayer)         (None, 8000, 1)           0         \n",
            "_________________________________________________________________\n",
            "conv1d_1 (Conv1D)            (None, 7988, 8)           112       \n",
            "_________________________________________________________________\n",
            "max_pooling1d_1 (MaxPooling1 (None, 2662, 8)           0         \n",
            "_________________________________________________________________\n",
            "dropout_1 (Dropout)          (None, 2662, 8)           0         \n",
            "_________________________________________________________________\n",
            "conv1d_2 (Conv1D)            (None, 2652, 16)          1424      \n",
            "_________________________________________________________________\n",
            "max_pooling1d_2 (MaxPooling1 (None, 884, 16)           0         \n",
            "_________________________________________________________________\n",
            "dropout_2 (Dropout)          (None, 884, 16)           0         \n",
            "_________________________________________________________________\n",
            "conv1d_3 (Conv1D)            (None, 876, 32)           4640      \n",
            "_________________________________________________________________\n",
            "max_pooling1d_3 (MaxPooling1 (None, 292, 32)           0         \n",
            "_________________________________________________________________\n",
            "dropout_3 (Dropout)          (None, 292, 32)           0         \n",
            "_________________________________________________________________\n",
            "conv1d_4 (Conv1D)            (None, 286, 64)           14400     \n",
            "_________________________________________________________________\n",
            "max_pooling1d_4 (MaxPooling1 (None, 95, 64)            0         \n",
            "_________________________________________________________________\n",
            "dropout_4 (Dropout)          (None, 95, 64)            0         \n",
            "_________________________________________________________________\n",
            "flatten_1 (Flatten)          (None, 6080)              0         \n",
            "_________________________________________________________________\n",
            "dense_1 (Dense)              (None, 256)               1556736   \n",
            "_________________________________________________________________\n",
            "dropout_5 (Dropout)          (None, 256)               0         \n",
            "_________________________________________________________________\n",
            "dense_2 (Dense)              (None, 128)               32896     \n",
            "_________________________________________________________________\n",
            "dropout_6 (Dropout)          (None, 128)               0         \n",
            "_________________________________________________________________\n",
            "dense_3 (Dense)              (None, 10)                1290      \n",
            "=================================================================\n",
            "Total params: 1,611,498\n",
            "Trainable params: 1,611,498\n",
            "Non-trainable params: 0\n",
            "_________________________________________________________________\n",
            "Train on 17049 samples, validate on 4263 samples\n",
            "Epoch 1/100\n",
            "17049/17049 [==============================] - 132s 8ms/step - loss: 2.0241 - accuracy: 0.2339 - val_loss: 1.5976 - val_accuracy: 0.4204\n",
            "Epoch 2/100\n",
            "17049/17049 [==============================] - 134s 8ms/step - loss: 1.4644 - accuracy: 0.4720 - val_loss: 1.2123 - val_accuracy: 0.5810\n",
            "Epoch 3/100\n",
            "17049/17049 [==============================] - 133s 8ms/step - loss: 1.1458 - accuracy: 0.5962 - val_loss: 0.9153 - val_accuracy: 0.6864\n",
            "Epoch 4/100\n",
            "17049/17049 [==============================] - 133s 8ms/step - loss: 0.9619 - accuracy: 0.6667 - val_loss: 0.8213 - val_accuracy: 0.7162\n",
            "Epoch 5/100\n",
            "17049/17049 [==============================] - 132s 8ms/step - loss: 0.8267 - accuracy: 0.7098 - val_loss: 0.7895 - val_accuracy: 0.7326\n",
            "Epoch 6/100\n",
            "17049/17049 [==============================] - 132s 8ms/step - loss: 0.7695 - accuracy: 0.7323 - val_loss: 0.7470 - val_accuracy: 0.7445\n",
            "Epoch 7/100\n",
            "17049/17049 [==============================] - 135s 8ms/step - loss: 0.6985 - accuracy: 0.7565 - val_loss: 0.6557 - val_accuracy: 0.7764\n",
            "Epoch 8/100\n",
            "17049/17049 [==============================] - 133s 8ms/step - loss: 0.6457 - accuracy: 0.7783 - val_loss: 0.5780 - val_accuracy: 0.8069\n",
            "Epoch 9/100\n",
            "17049/17049 [==============================] - 133s 8ms/step - loss: 0.6020 - accuracy: 0.7929 - val_loss: 0.6232 - val_accuracy: 0.7940\n",
            "Epoch 10/100\n",
            "17049/17049 [==============================] - 134s 8ms/step - loss: 0.5756 - accuracy: 0.7996 - val_loss: 0.5556 - val_accuracy: 0.8163\n",
            "Epoch 11/100\n",
            "17049/17049 [==============================] - 135s 8ms/step - loss: 0.5423 - accuracy: 0.8127 - val_loss: 0.5790 - val_accuracy: 0.8015\n",
            "Epoch 12/100\n",
            "17049/17049 [==============================] - 137s 8ms/step - loss: 0.5147 - accuracy: 0.8175 - val_loss: 0.5881 - val_accuracy: 0.7997\n",
            "Epoch 13/100\n",
            "17049/17049 [==============================] - 132s 8ms/step - loss: 0.4895 - accuracy: 0.8320 - val_loss: 0.5515 - val_accuracy: 0.8140\n",
            "Epoch 14/100\n",
            "17049/17049 [==============================] - 133s 8ms/step - loss: 0.4830 - accuracy: 0.8317 - val_loss: 0.5655 - val_accuracy: 0.8107\n",
            "Epoch 15/100\n",
            "17049/17049 [==============================] - 132s 8ms/step - loss: 0.4408 - accuracy: 0.8446 - val_loss: 0.5263 - val_accuracy: 0.8304\n",
            "Epoch 16/100\n",
            "17049/17049 [==============================] - 133s 8ms/step - loss: 0.4504 - accuracy: 0.8419 - val_loss: 0.5471 - val_accuracy: 0.8266\n",
            "Epoch 17/100\n",
            "17049/17049 [==============================] - 132s 8ms/step - loss: 0.4168 - accuracy: 0.8559 - val_loss: 0.5350 - val_accuracy: 0.8255\n",
            "Epoch 18/100\n",
            "17049/17049 [==============================] - 132s 8ms/step - loss: 0.4104 - accuracy: 0.8612 - val_loss: 0.5187 - val_accuracy: 0.8327\n",
            "Epoch 19/100\n",
            "17049/17049 [==============================] - 131s 8ms/step - loss: 0.3932 - accuracy: 0.8638 - val_loss: 0.5023 - val_accuracy: 0.8405\n",
            "Epoch 20/100\n",
            "17049/17049 [==============================] - 131s 8ms/step - loss: 0.3879 - accuracy: 0.8673 - val_loss: 0.5087 - val_accuracy: 0.8367\n",
            "Epoch 21/100\n",
            "17049/17049 [==============================] - 134s 8ms/step - loss: 0.3800 - accuracy: 0.8684 - val_loss: 0.4901 - val_accuracy: 0.8417\n",
            "Epoch 22/100\n",
            "17049/17049 [==============================] - 130s 8ms/step - loss: 0.3685 - accuracy: 0.8710 - val_loss: 0.5185 - val_accuracy: 0.8370\n",
            "Epoch 23/100\n",
            "17049/17049 [==============================] - 131s 8ms/step - loss: 0.3673 - accuracy: 0.8768 - val_loss: 0.4875 - val_accuracy: 0.8494\n",
            "Epoch 24/100\n",
            "17049/17049 [==============================] - 132s 8ms/step - loss: 0.3465 - accuracy: 0.8810 - val_loss: 0.4977 - val_accuracy: 0.8400\n",
            "Epoch 25/100\n",
            "17049/17049 [==============================] - 136s 8ms/step - loss: 0.3410 - accuracy: 0.8824 - val_loss: 0.5149 - val_accuracy: 0.8346\n",
            "Epoch 26/100\n",
            "17049/17049 [==============================] - 131s 8ms/step - loss: 0.3306 - accuracy: 0.8857 - val_loss: 0.4993 - val_accuracy: 0.8473\n",
            "Epoch 27/100\n",
            "17049/17049 [==============================] - 132s 8ms/step - loss: 0.3308 - accuracy: 0.8854 - val_loss: 0.4815 - val_accuracy: 0.8494\n",
            "Epoch 28/100\n",
            "17049/17049 [==============================] - 133s 8ms/step - loss: 0.3177 - accuracy: 0.8911 - val_loss: 0.5073 - val_accuracy: 0.8503\n",
            "Epoch 29/100\n",
            "17049/17049 [==============================] - 131s 8ms/step - loss: 0.3134 - accuracy: 0.8931 - val_loss: 0.5151 - val_accuracy: 0.8424\n",
            "Epoch 30/100\n",
            "17049/17049 [==============================] - 135s 8ms/step - loss: 0.3167 - accuracy: 0.8906 - val_loss: 0.5311 - val_accuracy: 0.8438\n",
            "Epoch 31/100\n",
            "17049/17049 [==============================] - 132s 8ms/step - loss: 0.3044 - accuracy: 0.8969 - val_loss: 0.5520 - val_accuracy: 0.8252\n",
            "Epoch 32/100\n",
            "17049/17049 [==============================] - 130s 8ms/step - loss: 0.3101 - accuracy: 0.8928 - val_loss: 0.5136 - val_accuracy: 0.8388\n",
            "Epoch 33/100\n",
            "17049/17049 [==============================] - 132s 8ms/step - loss: 0.2975 - accuracy: 0.8999 - val_loss: 0.5027 - val_accuracy: 0.8478\n",
            "Epoch 34/100\n",
            "17049/17049 [==============================] - 132s 8ms/step - loss: 0.2892 - accuracy: 0.8993 - val_loss: 0.4902 - val_accuracy: 0.8496\n",
            "Epoch 35/100\n",
            "17049/17049 [==============================] - 134s 8ms/step - loss: 0.2819 - accuracy: 0.9043 - val_loss: 0.5253 - val_accuracy: 0.8438\n",
            "Epoch 36/100\n",
            "17049/17049 [==============================] - 132s 8ms/step - loss: 0.2762 - accuracy: 0.9074 - val_loss: 0.5024 - val_accuracy: 0.8482\n",
            "Epoch 37/100\n",
            "17049/17049 [==============================] - 133s 8ms/step - loss: 0.2738 - accuracy: 0.9073 - val_loss: 0.4770 - val_accuracy: 0.8625\n",
            "Epoch 38/100\n",
            "17049/17049 [==============================] - 131s 8ms/step - loss: 0.2731 - accuracy: 0.9098 - val_loss: 0.4741 - val_accuracy: 0.8586\n",
            "Epoch 39/100\n",
            "17049/17049 [==============================] - 136s 8ms/step - loss: 0.2718 - accuracy: 0.9065 - val_loss: 0.4852 - val_accuracy: 0.8593\n",
            "Epoch 40/100\n",
            "17049/17049 [==============================] - 134s 8ms/step - loss: 0.2624 - accuracy: 0.9123 - val_loss: 0.4886 - val_accuracy: 0.8541\n",
            "Epoch 41/100\n",
            "17049/17049 [==============================] - 131s 8ms/step - loss: 0.2729 - accuracy: 0.9067 - val_loss: 0.4992 - val_accuracy: 0.8569\n",
            "Epoch 42/100\n",
            "17049/17049 [==============================] - 131s 8ms/step - loss: 0.2487 - accuracy: 0.9152 - val_loss: 0.4952 - val_accuracy: 0.8546\n",
            "Epoch 43/100\n",
            "17049/17049 [==============================] - 133s 8ms/step - loss: 0.2448 - accuracy: 0.9158 - val_loss: 0.5066 - val_accuracy: 0.8548\n",
            "Epoch 44/100\n",
            "17049/17049 [==============================] - 134s 8ms/step - loss: 0.2518 - accuracy: 0.9141 - val_loss: 0.5752 - val_accuracy: 0.8327\n",
            "Epoch 45/100\n",
            "17049/17049 [==============================] - 131s 8ms/step - loss: 0.2517 - accuracy: 0.9155 - val_loss: 0.4769 - val_accuracy: 0.8644\n",
            "Epoch 46/100\n",
            "17049/17049 [==============================] - 134s 8ms/step - loss: 0.2445 - accuracy: 0.9155 - val_loss: 0.4953 - val_accuracy: 0.8503\n",
            "Epoch 47/100\n",
            "17049/17049 [==============================] - 133s 8ms/step - loss: 0.2354 - accuracy: 0.9208 - val_loss: 0.4777 - val_accuracy: 0.8583\n",
            "Epoch 48/100\n",
            "17049/17049 [==============================] - 136s 8ms/step - loss: 0.2573 - accuracy: 0.9136 - val_loss: 0.5081 - val_accuracy: 0.8525\n",
            "Epoch 00048: early stopping\n"
          ],
          "name": "stdout"
        },
        {
          "output_type": "display_data",
          "data": {
            "image/png": "[encoded data removed]",
            "text/plain": [
              "<Figure size 432x288 with 1 Axes>"
            ]
          },
          "metadata": {
            "tags": [],
            "needs_background": "light"
          }
        },
        {
          "output_type": "execute_result",
          "data": {
            "text/plain": [
              "['/gdrive/My Drive/Colab Notebooks/Data/DSP Final/classes.joblib']"
            ]
          },
          "metadata": {
            "tags": []
          },
          "execution_count": 4
        }
      ]
    },
    {
      "cell_type": "code",
      "metadata": {
        "id": "ig1Lvx3MCkVl",
        "colab_type": "code",
        "outputId": "56dd0c71-7f08-4b52-812d-18ed929894a0",
        "colab": {
          "base_uri": "https://localhost:8080/",
          "height": 85
        }
      },
      "source": [
        "#Prediction\n",
        "pred_model = load(folder_url + 'model.joblib')\n",
        "\n",
        "def predict(model, audio):\n",
        "    audio = audio.reshape(1,8000,1)\n",
        "    class_probs = model.predict(audio)\n",
        "    best_index = np.argmax(class_probs[0])\n",
        "    pred_class = classes[best_index]\n",
        "    return pred_class\n",
        "\n",
        "import random\n",
        "index = random.randint(0, len(x_dev)-1)\n",
        "print(\"index:\", index)\n",
        "audio = x_dev[index].ravel()\n",
        "ipd.Audio(audio, rate=8000)\n",
        "print(\"Audio:\", classes[np.argmax(y_dev[index])])\n",
        "print(\"Text:\", predict(pred_model, audio))\n",
        "\n",
        "corrects = 0\n",
        "for index in range(len(x_dev)):\n",
        "    #print(index)\n",
        "    audio = x_dev[index].ravel()\n",
        "    speech = classes[np.argmax(y_dev[index])]\n",
        "    text = predict(pred_model, audio)\n",
        "    if speech == text:\n",
        "      corrects +=1\n",
        "print('Accuracy:', corrects / len(x_dev))"
      ],
      "execution_count": 9,
      "outputs": [
        {
          "output_type": "stream",
          "text": [
            "index: 4204\n",
            "Audio: go\n",
            "Text: go\n",
            "Accuracy: 0.9465165376495426\n"
          ],
          "name": "stdout"
        }
      ]
    }
  ]
}